{
 "cells": [
  {
   "metadata": {
    "ExecuteTime": {
     "end_time": "2025-06-09T12:41:45.600926Z",
     "start_time": "2025-06-09T12:41:45.488556Z"
    }
   },
   "cell_type": "code",
   "source": [
    "import numpy as np\n",
    "from mesh.mesh_read_plot3D import StructuredMeshInitialization2D\n",
    "from mesh.mesh import MeshGeoCalculator2D\n",
    "import boundary.ghost_cell as gc\n",
    "import type_transform as tf\n",
    "import config"
   ],
   "id": "147abb9b4bade0a6",
   "outputs": [],
   "execution_count": 1
  },
  {
   "metadata": {},
   "cell_type": "markdown",
   "source": "# 读取并预处理网格",
   "id": "7feac6983f688c1"
  },
  {
   "metadata": {
    "ExecuteTime": {
     "end_time": "2025-06-09T12:41:45.617004Z",
     "start_time": "2025-06-09T12:41:45.602916Z"
    }
   },
   "cell_type": "code",
   "source": [
    "mesh_read = StructuredMeshInitialization2D()\n",
    "mesh_read.load_file(\"airfoil0012extend.grd\", \"airfoil0012extend.inp\", 0.001)\n",
    "mesh_read.merge_blocks_2D()\n",
    "mesh_read.interface_transform_cal()\n",
    "mesh_read.mesh_reader.info()\n",
    "mesh_read.bc_reader.info()\n",
    "mesh_read.print_block_info()"
   ],
   "id": "20f31e64f90dc796",
   "outputs": [
    {
     "name": "stdout",
     "output_type": "stream",
     "text": [
      "[Block 0] shape: (259, 49, 1)\n",
      "  x range: -14.898221 ~ 15.908266\n",
      "  y range: -15.695282 ~ 15.697121\n",
      "  z range: 0.000000 ~ 0.000000\n",
      "[Block 1] shape: (10, 49, 1)\n",
      "  x range: 1.000000 ~ 15.908266\n",
      "  y range: -0.163128 ~ 0.215341\n",
      "  z range: 0.000000 ~ 0.000000\n",
      "Detected 2D boundary condition file.\n",
      "[Block 0] A shape: (259, 49, 1)\n",
      "  - Source: (259, 130, 1, 1), Type: 2\n",
      "  - Source: (259, 259, 1, 49), Type: -1, Target: (1, 1, 1, 49), Block: 1\n",
      "  - Source: (130, 259, 49, 49), Type: 4\n",
      "  - Source: (130, 1, 1, 1), Type: 2\n",
      "  - Source: (1, 130, 49, 49), Type: 4\n",
      "  - Source: (1, 1, 1, 49), Type: -1, Target: (10, 10, 1, 49), Block: 1\n",
      "[Block 1] B shape: (10, 49, 1)\n",
      "  - Source: (10, 1, 1, 1), Type: 2\n",
      "  - Source: (10, 10, 1, 49), Type: -1, Target: (1, 1, 1, 49), Block: 0\n",
      "  - Source: (1, 10, 49, 49), Type: 4\n",
      "  - Source: (1, 1, 1, 49), Type: -1, Target: (259, 259, 1, 49), Block: 0\n",
      "[Block 0]  shape: (259, 49, 1)\n",
      "  - BC type 2, source (259, 1, 1, 1), target_block N/A, target N/A\n",
      "  - BC type -1, source (259, 259, 1, 49), target_block 1, target (1, 1, 1, 49), transform (1, 2)\n",
      "  - BC type 4, source (1, 259, 49, 49), target_block N/A, target N/A\n",
      "  - BC type -1, source (1, 1, 1, 49), target_block 1, target (10, 10, 1, 49), transform (1, 2)\n",
      "[Block 1]  shape: (10, 49, 1)\n",
      "  - BC type 2, source (10, 1, 1, 1), target_block N/A, target N/A\n",
      "  - BC type -1, source (10, 10, 1, 49), target_block 0, target (1, 1, 1, 49), transform (1, 2)\n",
      "  - BC type 4, source (1, 10, 49, 49), target_block N/A, target N/A\n",
      "  - BC type -1, source (1, 1, 1, 49), target_block 0, target (259, 259, 1, 49), transform (1, 2)\n"
     ]
    }
   ],
   "execution_count": 2
  },
  {
   "metadata": {},
   "cell_type": "markdown",
   "source": "# 计算网格几何参数",
   "id": "41517c17ab52b5a8"
  },
  {
   "metadata": {
    "ExecuteTime": {
     "end_time": "2025-06-09T12:41:45.632702Z",
     "start_time": "2025-06-09T12:41:45.617955Z"
    }
   },
   "cell_type": "code",
   "source": [
    "mesh_geocal = MeshGeoCalculator2D(mesh_read)\n",
    "mesh_geocal.compute_centroids()\n",
    "mesh_geocal.compute_volumes()\n",
    "mesh_geocal.compute_face_vectors()\n",
    "for i, item in enumerate(mesh_geocal.mesh.blocks):\n",
    "    print(f\"block {i} keys: {list(item.keys())}\")\n",
    "print(mesh_geocal.mesh.blocks[0]['bc'])"
   ],
   "id": "21a68dc0f4c80afc",
   "outputs": [
    {
     "name": "stdout",
     "output_type": "stream",
     "text": [
      "[Block 0] xc range: (-13.69490000, 14.69897015), yc range: (-14.45284450, 14.45210219)\n",
      "[Block 1] xc range: (1.00027755, 14.70264261), yc range: (-0.12138114, 0.17834181)\n",
      "[Block 0] volume range: (3.62171595e-07, 1.78960182e+00)\n",
      "[Block 1] volume range: (3.85062192e-07, 1.38875202e-01)\n",
      "block 0 keys: ['shape', 'x', 'y', 'z', 'bc', 'xc', 'yc', 'volume', 'S1', 'S4']\n",
      "block 1 keys: ['shape', 'x', 'y', 'z', 'bc', 'xc', 'yc', 'volume', 'S1', 'S4']\n",
      "[{'type': 2, 'source': (259, 1, 1, 1)}, {'source': (259, 259, 1, 49), 'type': -1, 'target': (1, 1, 1, 49), 'target_block': 1, 'transform': (1, 2)}, {'type': 4, 'source': (1, 259, 49, 49)}, {'source': (1, 1, 1, 49), 'type': -1, 'target': (10, 10, 1, 49), 'target_block': 1, 'transform': (1, 2)}]\n"
     ]
    }
   ],
   "execution_count": 3
  },
  {
   "metadata": {},
   "cell_type": "markdown",
   "source": "# 添加虚网格",
   "id": "bca6209e3374a5fa"
  },
  {
   "metadata": {
    "ExecuteTime": {
     "end_time": "2025-06-09T12:41:45.648156Z",
     "start_time": "2025-06-09T12:41:45.633705Z"
    }
   },
   "cell_type": "code",
   "source": [
    "blocks = np.copy(mesh_geocal.mesh.blocks)\n",
    "gc.crate_ghost_cells(blocks, config.GHOST_LAYER, config.N_C)\n",
    "for block in blocks:\n",
    " for bc in block['bc']: \n",
    "    if 'ghost_cell' in bc:\n",
    "        print(\"ghost_cell shape:\", bc['ghost_cell'].shape)\n",
    "for i, block in enumerate(blocks):\n",
    "    print(f\"Block {i} keys:\", list(block.keys()))"
   ],
   "id": "ca60c014758c3842",
   "outputs": [
    {
     "name": "stdout",
     "output_type": "stream",
     "text": [
      "ghost_cell shape: (258, 2, 4)\n",
      "ghost_cell shape: (48, 2, 4)\n",
      "ghost_cell shape: (258, 2, 4)\n",
      "ghost_cell shape: (48, 2, 4)\n",
      "ghost_cell shape: (9, 2, 4)\n",
      "ghost_cell shape: (48, 2, 4)\n",
      "ghost_cell shape: (9, 2, 4)\n",
      "ghost_cell shape: (48, 2, 4)\n",
      "Block 0 keys: ['shape', 'x', 'y', 'z', 'bc', 'xc', 'yc', 'volume', 'S1', 'S4']\n",
      "Block 1 keys: ['shape', 'x', 'y', 'z', 'bc', 'xc', 'yc', 'volume', 'S1', 'S4']\n"
     ]
    }
   ],
   "execution_count": 4
  },
  {
   "metadata": {},
   "cell_type": "markdown",
   "source": "# 整理为一个用于计算的列表",
   "id": "9a0a6abc4c6ffbfc"
  },
  {
   "metadata": {
    "ExecuteTime": {
     "end_time": "2025-06-09T12:44:33.968014Z",
     "start_time": "2025-06-09T12:44:33.952366Z"
    }
   },
   "cell_type": "code",
   "source": [
    "blocks_cal = tf.trans_list2numpy_2d(blocks, config.N_C)\n",
    "for i, block in enumerate(blocks_cal):\n",
    "    print(f\"Block {i} keys:\", list(block.keys()))\n",
    "    print(f\"Block {i} has {len(block['bc'])} boundary conditions.\")\n",
    "    for j, bc in enumerate(block['bc']):\n",
    "        print(f\"  BC {j} keys: {list(bc.keys())}\")\n",
    "        print(f\"    → type: {bc.get('type', 'N/A')}\")"
   ],
   "id": "9f809eaaf0563c45",
   "outputs": [
    {
     "name": "stdout",
     "output_type": "stream",
     "text": [
      "Block 0 keys: ['geo', 'fluid', 'bc']\n",
      "Block 0 has 4 boundary conditions.\n",
      "  BC 0 keys: ['type', 'source', 'ghost_cell']\n",
      "    → type: 2\n",
      "  BC 1 keys: ['source', 'type', 'target', 'target_block', 'transform', 'ghost_cell']\n",
      "    → type: -1\n",
      "  BC 2 keys: ['type', 'source', 'ghost_cell']\n",
      "    → type: 4\n",
      "  BC 3 keys: ['source', 'type', 'target', 'target_block', 'transform', 'ghost_cell']\n",
      "    → type: -1\n",
      "Block 1 keys: ['geo', 'fluid', 'bc']\n",
      "Block 1 has 4 boundary conditions.\n",
      "  BC 0 keys: ['source', 'type', 'ghost_cell']\n",
      "    → type: 2\n",
      "  BC 1 keys: ['source', 'type', 'target', 'target_block', 'transform', 'ghost_cell']\n",
      "    → type: -1\n",
      "  BC 2 keys: ['source', 'type', 'ghost_cell']\n",
      "    → type: 4\n",
      "  BC 3 keys: ['source', 'type', 'target', 'target_block', 'transform', 'ghost_cell']\n",
      "    → type: -1\n"
     ]
    }
   ],
   "execution_count": 8
  },
  {
   "metadata": {},
   "cell_type": "markdown",
   "source": "# 初始化流场和边界条件",
   "id": "45809912d265420d"
  },
  {
   "metadata": {
    "ExecuteTime": {
     "end_time": "2025-06-09T12:41:45.679139Z",
     "start_time": "2025-06-09T12:41:45.664359Z"
    }
   },
   "cell_type": "code",
   "source": "",
   "id": "60b06feda8a4c394",
   "outputs": [],
   "execution_count": 5
  }
 ],
 "metadata": {
  "kernelspec": {
   "display_name": "Python 3",
   "language": "python",
   "name": "python3"
  },
  "language_info": {
   "codemirror_mode": {
    "name": "ipython",
    "version": 2
   },
   "file_extension": ".py",
   "mimetype": "text/x-python",
   "name": "python",
   "nbconvert_exporter": "python",
   "pygments_lexer": "ipython2",
   "version": "2.7.6"
  }
 },
 "nbformat": 4,
 "nbformat_minor": 5
}
