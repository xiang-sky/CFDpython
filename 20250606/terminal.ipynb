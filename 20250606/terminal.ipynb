{
 "cells": [
  {
   "metadata": {
    "ExecuteTime": {
     "end_time": "2025-06-22T08:55:26.256342Z",
     "start_time": "2025-06-22T08:55:26.247022Z"
    }
   },
   "cell_type": "code",
   "source": [
    "import numpy as np\n",
    "from mesh.mesh_read_plot3D import StructuredMeshInitialization2D\n",
    "from mesh.mesh import MeshGeoCalculator2D\n",
    "import boundary.boundary as bd\n",
    "import type_transform as tf\n",
    "import config\n",
    "import Initialization as initial"
   ],
   "id": "147abb9b4bade0a6",
   "outputs": [],
   "execution_count": 30
  },
  {
   "metadata": {},
   "cell_type": "markdown",
   "source": "# 读取并预处理网格",
   "id": "7feac6983f688c1"
  },
  {
   "metadata": {
    "ExecuteTime": {
     "end_time": "2025-06-22T08:55:26.286862Z",
     "start_time": "2025-06-22T08:55:26.273314Z"
    }
   },
   "cell_type": "code",
   "source": [
    "mesh_read = StructuredMeshInitialization2D()\n",
    "mesh_read.load_file(\"airfoil0012extend.grd\", \"airfoil0012extend.inp\", 0.001)\n",
    "mesh_read.merge_blocks_2D()\n",
    "mesh_read.interface_transform_cal()\n",
    "mesh_read.mesh_reader.info()\n",
    "mesh_read.bc_reader.info()\n",
    "mesh_read.print_block_info()"
   ],
   "id": "20f31e64f90dc796",
   "outputs": [
    {
     "name": "stdout",
     "output_type": "stream",
     "text": [
      "[Block 0] shape: (259, 49, 1)\n",
      "  x range: -14.898221 ~ 15.908266\n",
      "  y range: -15.695282 ~ 15.697121\n",
      "  z range: 0.000000 ~ 0.000000\n",
      "[Block 1] shape: (10, 49, 1)\n",
      "  x range: 1.000000 ~ 15.908266\n",
      "  y range: -0.163128 ~ 0.215341\n",
      "  z range: 0.000000 ~ 0.000000\n",
      "Detected 2D boundary condition file.\n",
      "[Block 0] A shape: (259, 49, 1)\n",
      "  - Source: (259, 130, 1, 1), Type: 2\n",
      "  - Source: (259, 259, 1, 49), Type: -1, Target: (1, 1, 1, 49), Block: 1\n",
      "  - Source: (130, 259, 49, 49), Type: 4\n",
      "  - Source: (130, 1, 1, 1), Type: 2\n",
      "  - Source: (1, 130, 49, 49), Type: 4\n",
      "  - Source: (1, 1, 1, 49), Type: -1, Target: (10, 10, 1, 49), Block: 1\n",
      "[Block 1] B shape: (10, 49, 1)\n",
      "  - Source: (10, 1, 1, 1), Type: 2\n",
      "  - Source: (10, 10, 1, 49), Type: -1, Target: (1, 1, 1, 49), Block: 0\n",
      "  - Source: (1, 10, 49, 49), Type: 4\n",
      "  - Source: (1, 1, 1, 49), Type: -1, Target: (259, 259, 1, 49), Block: 0\n",
      "[Block 0]  shape: (259, 49, 1)\n",
      "  - BC type 2, source (259, 1, 1, 1), target_block N/A, target N/A\n",
      "  - BC type -1, source (259, 259, 1, 49), target_block 1, target (1, 1, 1, 49), transform (1, 2)\n",
      "  - BC type 4, source (1, 259, 49, 49), target_block N/A, target N/A\n",
      "  - BC type -1, source (1, 1, 1, 49), target_block 1, target (10, 10, 1, 49), transform (1, 2)\n",
      "[Block 1]  shape: (10, 49, 1)\n",
      "  - BC type 2, source (10, 1, 1, 1), target_block N/A, target N/A\n",
      "  - BC type -1, source (10, 10, 1, 49), target_block 0, target (1, 1, 1, 49), transform (1, 2)\n",
      "  - BC type 4, source (1, 10, 49, 49), target_block N/A, target N/A\n",
      "  - BC type -1, source (1, 1, 1, 49), target_block 0, target (259, 259, 1, 49), transform (1, 2)\n"
     ]
    }
   ],
   "execution_count": 31
  },
  {
   "metadata": {},
   "cell_type": "markdown",
   "source": "# 计算网格几何参数",
   "id": "41517c17ab52b5a8"
  },
  {
   "metadata": {
    "ExecuteTime": {
     "end_time": "2025-06-22T08:55:26.302386Z",
     "start_time": "2025-06-22T08:55:26.287958Z"
    }
   },
   "cell_type": "code",
   "source": [
    "mesh_geocal = MeshGeoCalculator2D(mesh_read)\n",
    "mesh_geocal.compute_centroids()\n",
    "mesh_geocal.compute_volumes()\n",
    "mesh_geocal.compute_face_vectors()\n",
    "for i, item in enumerate(mesh_geocal.mesh.blocks):\n",
    "    print(f\"block {i} keys: {list(item.keys())}\")\n",
    "print(mesh_geocal.mesh.blocks[0]['bc'])"
   ],
   "id": "21a68dc0f4c80afc",
   "outputs": [
    {
     "name": "stdout",
     "output_type": "stream",
     "text": [
      "[Block 0] xc range: (-13.69490000, 14.69897015), yc range: (-14.45284450, 14.45210219)\n",
      "[Block 1] xc range: (1.00027755, 14.70264261), yc range: (-0.12138114, 0.17834181)\n",
      "[Block 0] volume range: (3.62171595e-07, 1.78960182e+00)\n",
      "[Block 1] volume range: (3.85062192e-07, 1.38875202e-01)\n",
      "block 0 keys: ['shape', 'x', 'y', 'z', 'bc', 'xc', 'yc', 'volume', 'S1', 'S2', 'S3', 'S4']\n",
      "block 1 keys: ['shape', 'x', 'y', 'z', 'bc', 'xc', 'yc', 'volume', 'S1', 'S2', 'S3', 'S4']\n",
      "[{'type': 2, 'source': (259, 1, 1, 1)}, {'source': (259, 259, 1, 49), 'type': -1, 'target': (1, 1, 1, 49), 'target_block': 1, 'transform': (1, 2)}, {'type': 4, 'source': (1, 259, 49, 49)}, {'source': (1, 1, 1, 49), 'type': -1, 'target': (10, 10, 1, 49), 'target_block': 1, 'transform': (1, 2)}]\n"
     ]
    }
   ],
   "execution_count": 32
  },
  {
   "metadata": {},
   "cell_type": "markdown",
   "source": "# 添加虚网格",
   "id": "bca6209e3374a5fa"
  },
  {
   "metadata": {
    "ExecuteTime": {
     "end_time": "2025-06-22T08:55:26.317586Z",
     "start_time": "2025-06-22T08:55:26.303748Z"
    }
   },
   "cell_type": "code",
   "source": [
    "blocks = np.copy(mesh_geocal.mesh.blocks)\n",
    "bd.crate_ghost_cells(blocks, config.GHOST_LAYER, config.N_C)\n",
    "for block in blocks:\n",
    " for bc in block['bc']: \n",
    "    if 'ghost_cell' in bc:\n",
    "        print(\"ghost_cell shape:\", bc['ghost_cell'].shape)\n",
    "for i, block in enumerate(blocks):\n",
    "    print(f\"Block {i} keys:\", list(block.keys()))"
   ],
   "id": "ca60c014758c3842",
   "outputs": [
    {
     "name": "stdout",
     "output_type": "stream",
     "text": [
      "ghost_cell shape: (258, 2, 4)\n",
      "ghost_cell shape: (48, 2, 4)\n",
      "ghost_cell shape: (258, 2, 4)\n",
      "ghost_cell shape: (48, 2, 4)\n",
      "ghost_cell shape: (9, 2, 4)\n",
      "ghost_cell shape: (48, 2, 4)\n",
      "ghost_cell shape: (9, 2, 4)\n",
      "ghost_cell shape: (48, 2, 4)\n",
      "Block 0 keys: ['shape', 'x', 'y', 'z', 'bc', 'xc', 'yc', 'volume', 'S1', 'S2', 'S3', 'S4']\n",
      "Block 1 keys: ['shape', 'x', 'y', 'z', 'bc', 'xc', 'yc', 'volume', 'S1', 'S2', 'S3', 'S4']\n"
     ]
    }
   ],
   "execution_count": 33
  },
  {
   "metadata": {},
   "cell_type": "markdown",
   "source": "# 整理为一个用于计算的列表",
   "id": "9a0a6abc4c6ffbfc"
  },
  {
   "metadata": {
    "ExecuteTime": {
     "end_time": "2025-06-22T08:55:26.332910Z",
     "start_time": "2025-06-22T08:55:26.318691Z"
    }
   },
   "cell_type": "code",
   "source": [
    "blocks_cal = tf.trans_list2numpy_2d(blocks, config.N_C)\n",
    "for i, block in enumerate(blocks_cal):\n",
    "    print(f\"Block {i} keys:\", list(block.keys()))\n",
    "    print(f\"Block {i} has {len(block['bc'])} boundary conditions.\")\n",
    "    for j, bc in enumerate(block['bc']):\n",
    "        print(f\"  BC {j} keys: {list(bc.keys())}\")\n",
    "        print(f\"    → type: {bc.get('type', 'N/A')}\")"
   ],
   "id": "9f809eaaf0563c45",
   "outputs": [
    {
     "name": "stdout",
     "output_type": "stream",
     "text": [
      "Block 0 keys: ['geo', 'fluid', 'bc']\n",
      "Block 0 has 4 boundary conditions.\n",
      "  BC 0 keys: ['type', 'source', 'ghost_cell']\n",
      "    → type: 2\n",
      "  BC 1 keys: ['source', 'type', 'target', 'target_block', 'transform', 'ghost_cell']\n",
      "    → type: -1\n",
      "  BC 2 keys: ['type', 'source', 'ghost_cell']\n",
      "    → type: 4\n",
      "  BC 3 keys: ['source', 'type', 'target', 'target_block', 'transform', 'ghost_cell']\n",
      "    → type: -1\n",
      "Block 1 keys: ['geo', 'fluid', 'bc']\n",
      "Block 1 has 4 boundary conditions.\n",
      "  BC 0 keys: ['source', 'type', 'ghost_cell']\n",
      "    → type: 2\n",
      "  BC 1 keys: ['source', 'type', 'target', 'target_block', 'transform', 'ghost_cell']\n",
      "    → type: -1\n",
      "  BC 2 keys: ['source', 'type', 'ghost_cell']\n",
      "    → type: 4\n",
      "  BC 3 keys: ['source', 'type', 'target', 'target_block', 'transform', 'ghost_cell']\n",
      "    → type: -1\n"
     ]
    }
   ],
   "execution_count": 34
  },
  {
   "metadata": {},
   "cell_type": "markdown",
   "source": "# 初始化流场和边界条件",
   "id": "45809912d265420d"
  },
  {
   "metadata": {
    "ExecuteTime": {
     "end_time": "2025-06-22T08:55:26.347851Z",
     "start_time": "2025-06-22T08:55:26.334110Z"
    }
   },
   "cell_type": "code",
   "source": [
    "initial.intialization_from_farfield(blocks_cal)\n",
    "print(blocks_cal[0]['fluid'][0, 0, 0:4])\n",
    "print(blocks_cal[0]['bc'][0]['ghost_cell'][0, 0, 0:4])"
   ],
   "id": "60b06feda8a4c394",
   "outputs": [
    {
     "name": "stdout",
     "output_type": "stream",
     "text": [
      "[ 1.          0.99939083  0.0348995  20.34126984]\n",
      "[ 1.          0.99939083  0.0348995  20.34126984]\n"
     ]
    }
   ],
   "execution_count": 35
  },
  {
   "metadata": {},
   "cell_type": "markdown",
   "source": [
    "# 迭代计算\n",
    "## 边界条件处理(虚网格)"
   ],
   "id": "a52f3aff38fb9d93"
  },
  {
   "metadata": {
    "ExecuteTime": {
     "end_time": "2025-06-22T08:55:26.362820Z",
     "start_time": "2025-06-22T08:55:26.349343Z"
    }
   },
   "cell_type": "code",
   "source": [
    "bd.boundary_farfeild(blocks_cal)\n",
    "bd.boundary_wall_inviscid(blocks_cal)\n",
    "bd.boundary_interface(blocks_cal)\n",
    "\n",
    "\n",
    "print(blocks_cal[0]['fluid'][0, 0, 0:4])\n",
    "print(blocks_cal[0]['geo'][0, 0, 3:5])\n",
    "print(blocks_cal[0]['geo'][0, 0, 3:5] / np.linalg.norm(blocks_cal[0]['geo'][0, 0, 3:5]))\n",
    "print(blocks_cal[0]['bc'][0]['ghost_cell'][0, 0, 0:4])\n",
    "\n",
    "v_r = np.array((blocks_cal[0]['fluid'][26, 0, 1], blocks_cal[0]['fluid'][26, 0, 2]))\n",
    "v_g = np.array((blocks_cal[0]['bc'][0]['ghost_cell'][26, 0, 1], blocks_cal[0]['bc'][0]['ghost_cell'][26, 0, 2]))\n",
    "S = blocks_cal[0]['geo'][26, 0, 3:5] / np.linalg.norm(blocks_cal[0]['geo'][26, 0, 3:5])\n",
    "flux = np.dot(v_r + v_g, S)\n",
    "print(flux)"
   ],
   "id": "37f92b0c350f260",
   "outputs": [
    {
     "name": "stdout",
     "output_type": "stream",
     "text": [
      "[ 1.          0.99939083  0.0348995  20.34126984]\n",
      "[-6.73797273e-05  4.95439171e-04]\n",
      "[-0.13475945  0.99087834]\n",
      "[ 1.          0.97241301  0.23326582 20.34126984]\n",
      "-5.551115123125783e-17\n"
     ]
    }
   ],
   "execution_count": 36
  },
  {
   "metadata": {},
   "cell_type": "markdown",
   "source": "## 验证空间离散",
   "id": "f7623cdd36c97be"
  },
  {
   "metadata": {
    "ExecuteTime": {
     "end_time": "2025-06-22T08:55:26.378573Z",
     "start_time": "2025-06-22T08:55:26.364173Z"
    }
   },
   "cell_type": "code",
   "source": [
    "from solver.flux import reconstruct_interface_state as re\n",
    "from solver.flux import conflux_ausm\n",
    "\n",
    "u_stat = re(blocks_cal[0], [10,10], [1,1])\n",
    "print(u_stat)"
   ],
   "id": "2f8541475f8e0707",
   "outputs": [
    {
     "name": "stdout",
     "output_type": "stream",
     "text": [
      "[[ 1.          1.        ]\n",
      " [ 0.99939083  0.99939083]\n",
      " [ 0.0348995   0.0348995 ]\n",
      " [20.34126984 20.34126984]]\n"
     ]
    }
   ],
   "execution_count": 37
  },
  {
   "metadata": {
    "ExecuteTime": {
     "end_time": "2025-06-22T08:55:26.393864Z",
     "start_time": "2025-06-22T08:55:26.379758Z"
    }
   },
   "cell_type": "code",
   "source": [
    "u_stat = re(blocks_cal[0], [10,10], [1,1])\n",
    "print(u_stat)\n",
    "s = blocks_cal[0]['geo'][10, 10, 5:7]\n",
    "print(s)\n",
    "flux = conflux_ausm(u_stat[:,0], u_stat[:,1], s)\n",
    "print(flux)"
   ],
   "id": "6dc45d68692d0a88",
   "outputs": [
    {
     "name": "stdout",
     "output_type": "stream",
     "text": [
      "[[ 1.          1.        ]\n",
      " [ 0.99939083  0.99939083]\n",
      " [ 0.0348995   0.0348995 ]\n",
      " [20.34126984 20.34126984]]\n",
      "[-0.00260055 -0.00240691]\n",
      "[-0.00268297 -0.02332063 -0.01919612 -0.07586836]\n"
     ]
    }
   ],
   "execution_count": 38
  },
  {
   "metadata": {
    "ExecuteTime": {
     "end_time": "2025-06-22T08:55:26.440086Z",
     "start_time": "2025-06-22T08:55:26.396095Z"
    }
   },
   "cell_type": "code",
   "source": [
    "from solver.residual import compute_residual_roe\n",
    "res = compute_residual_roe(blocks_cal[0], m=config.N_C, gamma=config.GAMMA)\n",
    "print(max(res))"
   ],
   "id": "99b29d885ada7917",
   "outputs": [
    {
     "ename": "ModuleNotFoundError",
     "evalue": "No module named 'flux'",
     "output_type": "error",
     "traceback": [
      "\u001B[1;31m---------------------------------------------------------------------------\u001B[0m",
      "\u001B[1;31mModuleNotFoundError\u001B[0m                       Traceback (most recent call last)",
      "Cell \u001B[1;32mIn[39], line 1\u001B[0m\n\u001B[1;32m----> 1\u001B[0m \u001B[38;5;28;01mfrom\u001B[39;00m \u001B[38;5;21;01msolver\u001B[39;00m\u001B[38;5;21;01m.\u001B[39;00m\u001B[38;5;21;01mresidual\u001B[39;00m \u001B[38;5;28;01mimport\u001B[39;00m compute_residual_roe\n\u001B[0;32m      2\u001B[0m res \u001B[38;5;241m=\u001B[39m compute_residual_roe(blocks_cal[\u001B[38;5;241m0\u001B[39m], m\u001B[38;5;241m=\u001B[39mconfig\u001B[38;5;241m.\u001B[39mN_C, gamma\u001B[38;5;241m=\u001B[39mconfig\u001B[38;5;241m.\u001B[39mGAMMA)\n\u001B[0;32m      3\u001B[0m \u001B[38;5;28mprint\u001B[39m(\u001B[38;5;28mmax\u001B[39m(res))\n",
      "File \u001B[1;32mE:\\BaiduSyncdisk\\Desktop\\xiangsky\\DMD_learn\\CFDpython\\CFDpython\\20250606\\solver\\residual.py:2\u001B[0m\n\u001B[0;32m      1\u001B[0m \u001B[38;5;28;01mimport\u001B[39;00m \u001B[38;5;21;01mnumpy\u001B[39;00m \u001B[38;5;28;01mas\u001B[39;00m \u001B[38;5;21;01mnp\u001B[39;00m\n\u001B[1;32m----> 2\u001B[0m \u001B[38;5;28;01mfrom\u001B[39;00m \u001B[38;5;21;01mflux\u001B[39;00m \u001B[38;5;28;01mimport\u001B[39;00m conflux_ausm\n\u001B[0;32m      3\u001B[0m \u001B[38;5;28;01mfrom\u001B[39;00m \u001B[38;5;21;01mflux\u001B[39;00m \u001B[38;5;28;01mimport\u001B[39;00m reconstruct_interface_state \u001B[38;5;28;01mas\u001B[39;00m re\n\u001B[0;32m      4\u001B[0m \u001B[38;5;28;01mimport\u001B[39;00m \u001B[38;5;21;01mconfig\u001B[39;00m\n",
      "\u001B[1;31mModuleNotFoundError\u001B[0m: No module named 'flux'"
     ]
    }
   ],
   "execution_count": 39
  }
 ],
 "metadata": {
  "kernelspec": {
   "display_name": "Python 3",
   "language": "python",
   "name": "python3"
  },
  "language_info": {
   "codemirror_mode": {
    "name": "ipython",
    "version": 2
   },
   "file_extension": ".py",
   "mimetype": "text/x-python",
   "name": "python",
   "nbconvert_exporter": "python",
   "pygments_lexer": "ipython2",
   "version": "2.7.6"
  }
 },
 "nbformat": 4,
 "nbformat_minor": 5
}
