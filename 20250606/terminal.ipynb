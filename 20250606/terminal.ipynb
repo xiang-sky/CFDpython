{
 "cells": [
  {
   "metadata": {
    "ExecuteTime": {
     "end_time": "2025-06-25T14:03:34.374032Z",
     "start_time": "2025-06-25T14:03:34.231740Z"
    }
   },
   "cell_type": "code",
   "source": [
    "import numpy as np\n",
    "from mesh.mesh_read_plot3D import StructuredMeshInitialization2D\n",
    "from mesh.mesh import MeshGeoCalculator2D\n",
    "import boundary.boundary as bd\n",
    "import type_transform as tf\n",
    "import config\n",
    "import Initialization as initial\n",
    "from solver.residual import compute_residual_ausm\n",
    "from solver.solver import RK3Solver"
   ],
   "id": "147abb9b4bade0a6",
   "outputs": [],
   "execution_count": 1
  },
  {
   "metadata": {},
   "cell_type": "markdown",
   "source": "# 读取并预处理网格",
   "id": "7feac6983f688c1"
  },
  {
   "metadata": {
    "ExecuteTime": {
     "end_time": "2025-06-25T14:03:34.389539Z",
     "start_time": "2025-06-25T14:03:34.375700Z"
    }
   },
   "cell_type": "code",
   "source": [
    "mesh_read = StructuredMeshInitialization2D()\n",
    "mesh_read.load_file(\"airfoil0012extend.grd\", \"airfoil0012extend.inp\", 0.001)\n",
    "mesh_read.merge_blocks_2D()\n",
    "mesh_read.interface_transform_cal()\n",
    "mesh_read.mesh_reader.info()\n",
    "mesh_read.bc_reader.info()\n",
    "mesh_read.print_block_info()"
   ],
   "id": "20f31e64f90dc796",
   "outputs": [
    {
     "name": "stdout",
     "output_type": "stream",
     "text": [
      "[Block 0] shape: (259, 49, 1)\n",
      "  x range: -14.898221 ~ 15.908266\n",
      "  y range: -15.695282 ~ 15.697121\n",
      "  z range: 0.000000 ~ 0.000000\n",
      "[Block 1] shape: (10, 49, 1)\n",
      "  x range: 1.000000 ~ 15.908266\n",
      "  y range: -0.163128 ~ 0.215341\n",
      "  z range: 0.000000 ~ 0.000000\n",
      "Detected 2D boundary condition file.\n",
      "[Block 0] A shape: (259, 49, 1)\n",
      "  - Source: (259, 130, 1, 1), Type: 2\n",
      "  - Source: (259, 259, 1, 49), Type: -1, Target: (1, 1, 1, 49), Block: 1\n",
      "  - Source: (130, 259, 49, 49), Type: 4\n",
      "  - Source: (130, 1, 1, 1), Type: 2\n",
      "  - Source: (1, 130, 49, 49), Type: 4\n",
      "  - Source: (1, 1, 1, 49), Type: -1, Target: (10, 10, 1, 49), Block: 1\n",
      "[Block 1] B shape: (10, 49, 1)\n",
      "  - Source: (10, 1, 1, 1), Type: 2\n",
      "  - Source: (10, 10, 1, 49), Type: -1, Target: (1, 1, 1, 49), Block: 0\n",
      "  - Source: (1, 10, 49, 49), Type: 4\n",
      "  - Source: (1, 1, 1, 49), Type: -1, Target: (259, 259, 1, 49), Block: 0\n",
      "[Block 0]  shape: (259, 49, 1)\n",
      "  - BC type 2, source (259, 1, 1, 1), target_block N/A, target N/A\n",
      "  - BC type -1, source (259, 259, 1, 49), target_block 1, target (1, 1, 1, 49), transform (1, 2)\n",
      "  - BC type 4, source (1, 259, 49, 49), target_block N/A, target N/A\n",
      "  - BC type -1, source (1, 1, 1, 49), target_block 1, target (10, 10, 1, 49), transform (1, 2)\n",
      "[Block 1]  shape: (10, 49, 1)\n",
      "  - BC type 2, source (10, 1, 1, 1), target_block N/A, target N/A\n",
      "  - BC type -1, source (10, 10, 1, 49), target_block 0, target (1, 1, 1, 49), transform (1, 2)\n",
      "  - BC type 4, source (1, 10, 49, 49), target_block N/A, target N/A\n",
      "  - BC type -1, source (1, 1, 1, 49), target_block 0, target (259, 259, 1, 49), transform (1, 2)\n"
     ]
    }
   ],
   "execution_count": 2
  },
  {
   "metadata": {},
   "cell_type": "markdown",
   "source": "# 计算网格几何参数",
   "id": "41517c17ab52b5a8"
  },
  {
   "metadata": {
    "ExecuteTime": {
     "end_time": "2025-06-25T14:03:34.404814Z",
     "start_time": "2025-06-25T14:03:34.391537Z"
    }
   },
   "cell_type": "code",
   "source": [
    "mesh_geocal = MeshGeoCalculator2D(mesh_read)\n",
    "mesh_geocal.compute_centroids()\n",
    "mesh_geocal.compute_volumes()\n",
    "mesh_geocal.compute_face_vectors()\n",
    "for i, item in enumerate(mesh_geocal.mesh.blocks):\n",
    "    print(f\"block {i} keys: {list(item.keys())}\")\n",
    "print(mesh_geocal.mesh.blocks[0]['bc'])"
   ],
   "id": "21a68dc0f4c80afc",
   "outputs": [
    {
     "name": "stdout",
     "output_type": "stream",
     "text": [
      "[Block 0] xc range: (-13.69490000, 14.69897015), yc range: (-14.45284450, 14.45210219)\n",
      "[Block 1] xc range: (1.00027755, 14.70264261), yc range: (-0.12138114, 0.17834181)\n",
      "[Block 0] volume range: (3.62171595e-07, 1.78960182e+00)\n",
      "[Block 1] volume range: (3.85062192e-07, 1.38875202e-01)\n",
      "block 0 keys: ['shape', 'x', 'y', 'z', 'bc', 'xc', 'yc', 'volume', 'S1', 'S2', 'S3', 'S4']\n",
      "block 1 keys: ['shape', 'x', 'y', 'z', 'bc', 'xc', 'yc', 'volume', 'S1', 'S2', 'S3', 'S4']\n",
      "[{'type': 2, 'source': (259, 1, 1, 1)}, {'source': (259, 259, 1, 49), 'type': -1, 'target': (1, 1, 1, 49), 'target_block': 1, 'transform': (1, 2)}, {'type': 4, 'source': (1, 259, 49, 49)}, {'source': (1, 1, 1, 49), 'type': -1, 'target': (10, 10, 1, 49), 'target_block': 1, 'transform': (1, 2)}]\n"
     ]
    }
   ],
   "execution_count": 3
  },
  {
   "metadata": {},
   "cell_type": "markdown",
   "source": "# 添加虚网格",
   "id": "bca6209e3374a5fa"
  },
  {
   "metadata": {
    "ExecuteTime": {
     "end_time": "2025-06-25T14:03:34.420236Z",
     "start_time": "2025-06-25T14:03:34.406242Z"
    }
   },
   "cell_type": "code",
   "source": [
    "blocks = np.copy(mesh_geocal.mesh.blocks)\n",
    "bd.crate_ghost_cells(blocks, config.GHOST_LAYER, config.N_C)\n",
    "for block in blocks:\n",
    " for bc in block['bc']: \n",
    "    if 'ghost_cell' in bc:\n",
    "        print(\"ghost_cell shape:\", bc['ghost_cell'].shape)\n",
    "for i, block in enumerate(blocks):\n",
    "    print(f\"Block {i} keys:\", list(block.keys()))"
   ],
   "id": "ca60c014758c3842",
   "outputs": [
    {
     "name": "stdout",
     "output_type": "stream",
     "text": [
      "ghost_cell shape: (258, 2, 4)\n",
      "ghost_cell shape: (48, 2, 4)\n",
      "ghost_cell shape: (258, 2, 4)\n",
      "ghost_cell shape: (48, 2, 4)\n",
      "ghost_cell shape: (9, 2, 4)\n",
      "ghost_cell shape: (48, 2, 4)\n",
      "ghost_cell shape: (9, 2, 4)\n",
      "ghost_cell shape: (48, 2, 4)\n",
      "Block 0 keys: ['shape', 'x', 'y', 'z', 'bc', 'xc', 'yc', 'volume', 'S1', 'S2', 'S3', 'S4']\n",
      "Block 1 keys: ['shape', 'x', 'y', 'z', 'bc', 'xc', 'yc', 'volume', 'S1', 'S2', 'S3', 'S4']\n"
     ]
    }
   ],
   "execution_count": 4
  },
  {
   "metadata": {},
   "cell_type": "markdown",
   "source": "# 整理为一个用于计算的列表",
   "id": "9a0a6abc4c6ffbfc"
  },
  {
   "metadata": {
    "ExecuteTime": {
     "end_time": "2025-06-25T14:03:34.435987Z",
     "start_time": "2025-06-25T14:03:34.422670Z"
    }
   },
   "cell_type": "code",
   "source": [
    "blocks_cal = tf.trans_list2numpy_2d(blocks, config.N_C)\n",
    "for i, block in enumerate(blocks_cal):\n",
    "    print(f\"Block {i} keys:\", list(block.keys()))\n",
    "    print(f\"Block {i} has {len(block['bc'])} boundary conditions.\")\n",
    "    for j, bc in enumerate(block['bc']):\n",
    "        print(f\"  BC {j} keys: {list(bc.keys())}\")\n",
    "        print(f\"    → type: {bc.get('type', 'N/A')}\")"
   ],
   "id": "9f809eaaf0563c45",
   "outputs": [
    {
     "name": "stdout",
     "output_type": "stream",
     "text": [
      "Block 0 keys: ['geo', 'fluid', 'bc']\n",
      "Block 0 has 4 boundary conditions.\n",
      "  BC 0 keys: ['type', 'source', 'ghost_cell']\n",
      "    → type: 2\n",
      "  BC 1 keys: ['source', 'type', 'target', 'target_block', 'transform', 'ghost_cell']\n",
      "    → type: -1\n",
      "  BC 2 keys: ['type', 'source', 'ghost_cell']\n",
      "    → type: 4\n",
      "  BC 3 keys: ['source', 'type', 'target', 'target_block', 'transform', 'ghost_cell']\n",
      "    → type: -1\n",
      "Block 1 keys: ['geo', 'fluid', 'bc']\n",
      "Block 1 has 4 boundary conditions.\n",
      "  BC 0 keys: ['source', 'type', 'ghost_cell']\n",
      "    → type: 2\n",
      "  BC 1 keys: ['source', 'type', 'target', 'target_block', 'transform', 'ghost_cell']\n",
      "    → type: -1\n",
      "  BC 2 keys: ['source', 'type', 'ghost_cell']\n",
      "    → type: 4\n",
      "  BC 3 keys: ['source', 'type', 'target', 'target_block', 'transform', 'ghost_cell']\n",
      "    → type: -1\n"
     ]
    }
   ],
   "execution_count": 5
  },
  {
   "metadata": {},
   "cell_type": "markdown",
   "source": "# 初始化流场和边界条件",
   "id": "45809912d265420d"
  },
  {
   "metadata": {
    "ExecuteTime": {
     "end_time": "2025-06-25T14:03:34.451287Z",
     "start_time": "2025-06-25T14:03:34.438374Z"
    }
   },
   "cell_type": "code",
   "source": [
    "initial.intialization_from_farfield(blocks_cal)\n",
    "print(blocks_cal[0]['fluid'][0, 0, 0:4])\n",
    "print(blocks_cal[0]['bc'][0]['ghost_cell'][0, 0, 0:4])"
   ],
   "id": "60b06feda8a4c394",
   "outputs": [
    {
     "name": "stdout",
     "output_type": "stream",
     "text": [
      "[ 1.          0.99939083  0.0348995  20.34126984]\n",
      "[ 1.          0.99939083  0.0348995  20.34126984]\n"
     ]
    }
   ],
   "execution_count": 6
  },
  {
   "metadata": {},
   "cell_type": "markdown",
   "source": "# 迭代计算",
   "id": "a52f3aff38fb9d93"
  },
  {
   "metadata": {
    "ExecuteTime": {
     "end_time": "2025-06-25T14:14:50.252798Z",
     "start_time": "2025-06-25T14:03:37.145036Z"
    }
   },
   "cell_type": "code",
   "source": [
    "slover = RK3Solver(blocks_cal, config.GAMMA, 0.5)\n",
    "slover.run(100, 1e-2)\n",
    "blocks_result = slover.blocks"
   ],
   "id": "c993caeeb3a33a6a",
   "outputs": [
    {
     "name": "stdout",
     "output_type": "stream",
     "text": [
      "[Iter 1] Residual = 5.002e-01\n",
      "[Iter 2] Residual = 4.941e-01\n",
      "[Iter 3] Residual = 4.848e-01\n",
      "[Iter 4] Residual = 4.726e-01\n",
      "[Iter 5] Residual = 4.578e-01\n",
      "[Iter 6] Residual = 4.409e-01\n",
      "[Iter 7] Residual = 4.224e-01\n",
      "[Iter 8] Residual = 4.028e-01\n",
      "[Iter 9] Residual = 3.828e-01\n",
      "[Iter 10] Residual = 3.628e-01\n",
      "[Iter 11] Residual = 3.436e-01\n",
      "[Iter 12] Residual = 3.261e-01\n",
      "[Iter 13] Residual = 3.109e-01\n",
      "[Iter 14] Residual = 2.990e-01\n",
      "[Iter 15] Residual = 2.910e-01\n",
      "[Iter 16] Residual = 2.874e-01\n",
      "[Iter 17] Residual = 2.884e-01\n",
      "[Iter 18] Residual = 2.939e-01\n",
      "[Iter 19] Residual = 3.034e-01\n",
      "[Iter 20] Residual = 3.190e-01\n",
      "[Iter 21] Residual = 3.350e-01\n",
      "[Iter 22] Residual = 3.513e-01\n",
      "[Iter 23] Residual = 3.716e-01\n",
      "[Iter 24] Residual = 3.921e-01\n",
      "[Iter 25] Residual = 4.117e-01\n",
      "[Iter 26] Residual = 4.297e-01\n",
      "[Iter 27] Residual = 4.456e-01\n",
      "[Iter 28] Residual = 4.590e-01\n",
      "[Iter 29] Residual = 4.696e-01\n",
      "[Iter 30] Residual = 4.773e-01\n",
      "[Iter 31] Residual = 4.820e-01\n",
      "[Iter 32] Residual = 4.836e-01\n",
      "[Iter 33] Residual = 4.822e-01\n",
      "[Iter 34] Residual = 4.778e-01\n",
      "[Iter 35] Residual = 4.702e-01\n",
      "[Iter 36] Residual = 4.600e-01\n",
      "[Iter 37] Residual = 4.477e-01\n",
      "[Iter 38] Residual = 4.336e-01\n",
      "[Iter 39] Residual = 4.180e-01\n",
      "[Iter 40] Residual = 4.016e-01\n",
      "[Iter 41] Residual = 3.850e-01\n",
      "[Iter 42] Residual = 3.689e-01\n",
      "[Iter 43] Residual = 3.543e-01\n",
      "[Iter 44] Residual = 3.419e-01\n",
      "[Iter 45] Residual = 3.329e-01\n",
      "[Iter 46] Residual = 3.279e-01\n",
      "[Iter 47] Residual = 3.273e-01\n",
      "[Iter 48] Residual = 3.311e-01\n",
      "[Iter 49] Residual = 3.390e-01\n",
      "[Iter 50] Residual = 3.494e-01\n",
      "[Iter 51] Residual = 3.681e-01\n",
      "[Iter 52] Residual = 3.908e-01\n",
      "[Iter 53] Residual = 4.132e-01\n",
      "[Iter 54] Residual = 4.354e-01\n",
      "[Iter 55] Residual = 4.568e-01\n",
      "[Iter 56] Residual = 4.770e-01\n",
      "[Iter 57] Residual = 4.954e-01\n",
      "[Iter 58] Residual = 5.117e-01\n",
      "[Iter 59] Residual = 5.255e-01\n",
      "[Iter 60] Residual = 5.365e-01\n",
      "[Iter 61] Residual = 5.445e-01\n",
      "[Iter 62] Residual = 5.493e-01\n",
      "[Iter 63] Residual = 5.511e-01\n",
      "[Iter 64] Residual = 5.499e-01\n",
      "[Iter 65] Residual = 5.456e-01\n",
      "[Iter 66] Residual = 5.385e-01\n",
      "[Iter 67] Residual = 5.286e-01\n",
      "[Iter 68] Residual = 5.164e-01\n",
      "[Iter 69] Residual = 5.015e-01\n",
      "[Iter 70] Residual = 4.843e-01\n",
      "[Iter 71] Residual = 4.652e-01\n",
      "[Iter 72] Residual = 4.446e-01\n",
      "[Iter 73] Residual = 4.234e-01\n",
      "[Iter 74] Residual = 4.023e-01\n",
      "[Iter 75] Residual = 3.822e-01\n",
      "[Iter 76] Residual = 3.641e-01\n",
      "[Iter 77] Residual = 3.487e-01\n",
      "[Iter 78] Residual = 3.370e-01\n",
      "[Iter 79] Residual = 3.299e-01\n",
      "[Iter 80] Residual = 3.272e-01\n",
      "[Iter 81] Residual = 3.300e-01\n",
      "[Iter 82] Residual = 3.381e-01\n",
      "[Iter 83] Residual = 3.499e-01\n",
      "[Iter 84] Residual = 3.644e-01\n",
      "[Iter 85] Residual = 3.816e-01\n",
      "[Iter 86] Residual = 3.998e-01\n",
      "[Iter 87] Residual = 4.178e-01\n",
      "[Iter 88] Residual = 4.353e-01\n",
      "[Iter 89] Residual = 4.534e-01\n",
      "[Iter 90] Residual = 4.724e-01\n",
      "[Iter 91] Residual = 4.901e-01\n",
      "[Iter 92] Residual = 5.050e-01\n",
      "[Iter 93] Residual = 5.172e-01\n",
      "[Iter 94] Residual = 5.270e-01\n",
      "[Iter 95] Residual = 5.342e-01\n",
      "[Iter 96] Residual = 5.388e-01\n",
      "[Iter 97] Residual = 5.408e-01\n",
      "[Iter 98] Residual = 5.403e-01\n",
      "[Iter 99] Residual = 5.375e-01\n",
      "[Iter 100] Residual = 5.326e-01\n"
     ]
    }
   ],
   "execution_count": 7
  },
  {
   "metadata": {
    "ExecuteTime": {
     "end_time": "2025-06-25T14:21:24.472563Z",
     "start_time": "2025-06-25T14:21:24.434522Z"
    }
   },
   "cell_type": "code",
   "source": [
    "import pickle\n",
    "with open('blocks_result.pkl', 'wb') as f:\n",
    "    pickle.dump(blocks_result, f)"
   ],
   "id": "3d0b82c02acfe946",
   "outputs": [],
   "execution_count": 9
  },
  {
   "metadata": {},
   "cell_type": "code",
   "source": [
    "import pickle\n",
    "with open('blocks_result.pkl', 'rb') as f:\n",
    "    blocks_result = pickle.load(f)\n",
    "\n",
    "for i, block in enumerate(blocks_result):\n",
    "    print(f\"Block {i} keys:\", list(block.keys()))"
   ],
   "id": "44c30862f2b5455",
   "outputs": [],
   "execution_count": null
  },
  {
   "metadata": {
    "ExecuteTime": {
     "end_time": "2025-06-25T14:14:56.201800Z",
     "start_time": "2025-06-25T14:14:56.018856Z"
    }
   },
   "cell_type": "code",
   "source": [
    "from post_output.output_tecplot import output_tecplot\n",
    "output_tecplot(blocks_result)"
   ],
   "id": "61d182af39f54845",
   "outputs": [],
   "execution_count": 8
  }
 ],
 "metadata": {
  "kernelspec": {
   "display_name": "Python 3",
   "language": "python",
   "name": "python3"
  },
  "language_info": {
   "codemirror_mode": {
    "name": "ipython",
    "version": 2
   },
   "file_extension": ".py",
   "mimetype": "text/x-python",
   "name": "python",
   "nbconvert_exporter": "python",
   "pygments_lexer": "ipython2",
   "version": "2.7.6"
  }
 },
 "nbformat": 4,
 "nbformat_minor": 5
}
