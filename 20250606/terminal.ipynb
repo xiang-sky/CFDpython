{
 "cells": [
  {
   "metadata": {
    "ExecuteTime": {
     "end_time": "2025-06-19T09:22:19.125094Z",
     "start_time": "2025-06-19T09:22:18.980007Z"
    }
   },
   "cell_type": "code",
   "source": [
    "import numpy as np\n",
    "from mesh.mesh_read_plot3D import StructuredMeshInitialization2D\n",
    "from mesh.mesh import MeshGeoCalculator2D\n",
    "import boundary.boundary as bd\n",
    "import type_transform as tf\n",
    "import config\n",
    "import Initialization as initial"
   ],
   "id": "147abb9b4bade0a6",
   "outputs": [],
   "execution_count": 1
  },
  {
   "metadata": {},
   "cell_type": "markdown",
   "source": "# 读取并预处理网格",
   "id": "7feac6983f688c1"
  },
  {
   "metadata": {
    "ExecuteTime": {
     "end_time": "2025-06-19T09:22:19.140411Z",
     "start_time": "2025-06-19T09:22:19.126510Z"
    }
   },
   "cell_type": "code",
   "source": [
    "mesh_read = StructuredMeshInitialization2D()\n",
    "mesh_read.load_file(\"airfoil0012extend.grd\", \"airfoil0012extend.inp\", 0.001)\n",
    "mesh_read.merge_blocks_2D()\n",
    "mesh_read.interface_transform_cal()\n",
    "mesh_read.mesh_reader.info()\n",
    "mesh_read.bc_reader.info()\n",
    "mesh_read.print_block_info()"
   ],
   "id": "20f31e64f90dc796",
   "outputs": [
    {
     "name": "stdout",
     "output_type": "stream",
     "text": [
      "[Block 0] shape: (259, 49, 1)\n",
      "  x range: -14.898221 ~ 15.908266\n",
      "  y range: -15.695282 ~ 15.697121\n",
      "  z range: 0.000000 ~ 0.000000\n",
      "[Block 1] shape: (10, 49, 1)\n",
      "  x range: 1.000000 ~ 15.908266\n",
      "  y range: -0.163128 ~ 0.215341\n",
      "  z range: 0.000000 ~ 0.000000\n",
      "Detected 2D boundary condition file.\n",
      "[Block 0] A shape: (259, 49, 1)\n",
      "  - Source: (259, 130, 1, 1), Type: 2\n",
      "  - Source: (259, 259, 1, 49), Type: -1, Target: (1, 1, 1, 49), Block: 1\n",
      "  - Source: (130, 259, 49, 49), Type: 4\n",
      "  - Source: (130, 1, 1, 1), Type: 2\n",
      "  - Source: (1, 130, 49, 49), Type: 4\n",
      "  - Source: (1, 1, 1, 49), Type: -1, Target: (10, 10, 1, 49), Block: 1\n",
      "[Block 1] B shape: (10, 49, 1)\n",
      "  - Source: (10, 1, 1, 1), Type: 2\n",
      "  - Source: (10, 10, 1, 49), Type: -1, Target: (1, 1, 1, 49), Block: 0\n",
      "  - Source: (1, 10, 49, 49), Type: 4\n",
      "  - Source: (1, 1, 1, 49), Type: -1, Target: (259, 259, 1, 49), Block: 0\n",
      "[Block 0]  shape: (259, 49, 1)\n",
      "  - BC type 2, source (259, 1, 1, 1), target_block N/A, target N/A\n",
      "  - BC type -1, source (259, 259, 1, 49), target_block 1, target (1, 1, 1, 49), transform (1, 2)\n",
      "  - BC type 4, source (1, 259, 49, 49), target_block N/A, target N/A\n",
      "  - BC type -1, source (1, 1, 1, 49), target_block 1, target (10, 10, 1, 49), transform (1, 2)\n",
      "[Block 1]  shape: (10, 49, 1)\n",
      "  - BC type 2, source (10, 1, 1, 1), target_block N/A, target N/A\n",
      "  - BC type -1, source (10, 10, 1, 49), target_block 0, target (1, 1, 1, 49), transform (1, 2)\n",
      "  - BC type 4, source (1, 10, 49, 49), target_block N/A, target N/A\n",
      "  - BC type -1, source (1, 1, 1, 49), target_block 0, target (259, 259, 1, 49), transform (1, 2)\n"
     ]
    }
   ],
   "execution_count": 2
  },
  {
   "metadata": {},
   "cell_type": "markdown",
   "source": "# 计算网格几何参数",
   "id": "41517c17ab52b5a8"
  },
  {
   "metadata": {
    "ExecuteTime": {
     "end_time": "2025-06-19T09:22:19.155588Z",
     "start_time": "2025-06-19T09:22:19.141725Z"
    }
   },
   "cell_type": "code",
   "source": [
    "mesh_geocal = MeshGeoCalculator2D(mesh_read)\n",
    "mesh_geocal.compute_centroids()\n",
    "mesh_geocal.compute_volumes()\n",
    "mesh_geocal.compute_face_vectors()\n",
    "for i, item in enumerate(mesh_geocal.mesh.blocks):\n",
    "    print(f\"block {i} keys: {list(item.keys())}\")\n",
    "print(mesh_geocal.mesh.blocks[0]['bc'])"
   ],
   "id": "21a68dc0f4c80afc",
   "outputs": [
    {
     "name": "stdout",
     "output_type": "stream",
     "text": [
      "[Block 0] xc range: (-13.69490000, 14.69897015), yc range: (-14.45284450, 14.45210219)\n",
      "[Block 1] xc range: (1.00027755, 14.70264261), yc range: (-0.12138114, 0.17834181)\n",
      "[Block 0] volume range: (3.62171595e-07, 1.78960182e+00)\n",
      "[Block 1] volume range: (3.85062192e-07, 1.38875202e-01)\n",
      "block 0 keys: ['shape', 'x', 'y', 'z', 'bc', 'xc', 'yc', 'volume', 'S1', 'S2', 'S3', 'S4']\n",
      "block 1 keys: ['shape', 'x', 'y', 'z', 'bc', 'xc', 'yc', 'volume', 'S1', 'S2', 'S3', 'S4']\n",
      "[{'type': 2, 'source': (259, 1, 1, 1)}, {'source': (259, 259, 1, 49), 'type': -1, 'target': (1, 1, 1, 49), 'target_block': 1, 'transform': (1, 2)}, {'type': 4, 'source': (1, 259, 49, 49)}, {'source': (1, 1, 1, 49), 'type': -1, 'target': (10, 10, 1, 49), 'target_block': 1, 'transform': (1, 2)}]\n"
     ]
    }
   ],
   "execution_count": 3
  },
  {
   "metadata": {},
   "cell_type": "markdown",
   "source": "# 添加虚网格",
   "id": "bca6209e3374a5fa"
  },
  {
   "metadata": {
    "ExecuteTime": {
     "end_time": "2025-06-19T09:22:19.171694Z",
     "start_time": "2025-06-19T09:22:19.157065Z"
    }
   },
   "cell_type": "code",
   "source": [
    "blocks = np.copy(mesh_geocal.mesh.blocks)\n",
    "bd.crate_ghost_cells(blocks, config.GHOST_LAYER, config.N_C)\n",
    "for block in blocks:\n",
    " for bc in block['bc']: \n",
    "    if 'ghost_cell' in bc:\n",
    "        print(\"ghost_cell shape:\", bc['ghost_cell'].shape)\n",
    "for i, block in enumerate(blocks):\n",
    "    print(f\"Block {i} keys:\", list(block.keys()))"
   ],
   "id": "ca60c014758c3842",
   "outputs": [
    {
     "name": "stdout",
     "output_type": "stream",
     "text": [
      "ghost_cell shape: (258, 2, 4)\n",
      "ghost_cell shape: (48, 2, 4)\n",
      "ghost_cell shape: (258, 2, 4)\n",
      "ghost_cell shape: (48, 2, 4)\n",
      "ghost_cell shape: (9, 2, 4)\n",
      "ghost_cell shape: (48, 2, 4)\n",
      "ghost_cell shape: (9, 2, 4)\n",
      "ghost_cell shape: (48, 2, 4)\n",
      "Block 0 keys: ['shape', 'x', 'y', 'z', 'bc', 'xc', 'yc', 'volume', 'S1', 'S2', 'S3', 'S4']\n",
      "Block 1 keys: ['shape', 'x', 'y', 'z', 'bc', 'xc', 'yc', 'volume', 'S1', 'S2', 'S3', 'S4']\n"
     ]
    }
   ],
   "execution_count": 4
  },
  {
   "metadata": {},
   "cell_type": "markdown",
   "source": "# 整理为一个用于计算的列表",
   "id": "9a0a6abc4c6ffbfc"
  },
  {
   "metadata": {
    "ExecuteTime": {
     "end_time": "2025-06-19T09:22:19.187836Z",
     "start_time": "2025-06-19T09:22:19.173843Z"
    }
   },
   "cell_type": "code",
   "source": [
    "blocks_cal = tf.trans_list2numpy_2d(blocks, config.N_C)\n",
    "for i, block in enumerate(blocks_cal):\n",
    "    print(f\"Block {i} keys:\", list(block.keys()))\n",
    "    print(f\"Block {i} has {len(block['bc'])} boundary conditions.\")\n",
    "    for j, bc in enumerate(block['bc']):\n",
    "        print(f\"  BC {j} keys: {list(bc.keys())}\")\n",
    "        print(f\"    → type: {bc.get('type', 'N/A')}\")"
   ],
   "id": "9f809eaaf0563c45",
   "outputs": [
    {
     "name": "stdout",
     "output_type": "stream",
     "text": [
      "Block 0 keys: ['geo', 'fluid', 'bc']\n",
      "Block 0 has 4 boundary conditions.\n",
      "  BC 0 keys: ['type', 'source', 'ghost_cell']\n",
      "    → type: 2\n",
      "  BC 1 keys: ['source', 'type', 'target', 'target_block', 'transform', 'ghost_cell']\n",
      "    → type: -1\n",
      "  BC 2 keys: ['type', 'source', 'ghost_cell']\n",
      "    → type: 4\n",
      "  BC 3 keys: ['source', 'type', 'target', 'target_block', 'transform', 'ghost_cell']\n",
      "    → type: -1\n",
      "Block 1 keys: ['geo', 'fluid', 'bc']\n",
      "Block 1 has 4 boundary conditions.\n",
      "  BC 0 keys: ['source', 'type', 'ghost_cell']\n",
      "    → type: 2\n",
      "  BC 1 keys: ['source', 'type', 'target', 'target_block', 'transform', 'ghost_cell']\n",
      "    → type: -1\n",
      "  BC 2 keys: ['source', 'type', 'ghost_cell']\n",
      "    → type: 4\n",
      "  BC 3 keys: ['source', 'type', 'target', 'target_block', 'transform', 'ghost_cell']\n",
      "    → type: -1\n"
     ]
    }
   ],
   "execution_count": 5
  },
  {
   "metadata": {},
   "cell_type": "markdown",
   "source": "# 初始化流场和边界条件",
   "id": "45809912d265420d"
  },
  {
   "metadata": {
    "ExecuteTime": {
     "end_time": "2025-06-19T09:22:19.203756Z",
     "start_time": "2025-06-19T09:22:19.189230Z"
    }
   },
   "cell_type": "code",
   "source": [
    "initial.intialization_from_farfield(blocks_cal)\n",
    "print(blocks_cal[0]['fluid'][0, 0, 0:4])\n",
    "print(blocks_cal[0]['bc'][0]['ghost_cell'][0, 0, 0:4])"
   ],
   "id": "60b06feda8a4c394",
   "outputs": [
    {
     "name": "stdout",
     "output_type": "stream",
     "text": [
      "[ 1.          0.99939083  0.0348995  20.34126984]\n",
      "[ 1.          0.99939083  0.0348995  20.34126984]\n"
     ]
    }
   ],
   "execution_count": 6
  },
  {
   "metadata": {},
   "cell_type": "markdown",
   "source": [
    "# 迭代计算\n",
    "## 边界条件处理(虚网格)"
   ],
   "id": "a52f3aff38fb9d93"
  },
  {
   "metadata": {
    "ExecuteTime": {
     "end_time": "2025-06-19T09:22:19.234933Z",
     "start_time": "2025-06-19T09:22:19.206110Z"
    }
   },
   "cell_type": "code",
   "source": [
    "bd.boundary_farfeild(blocks_cal)\n",
    "bd.boundary_wall_inviscid(blocks_cal)\n",
    "bd.boundary_interface(blocks_cal)\n",
    "\n",
    "\n",
    "print(blocks_cal[0]['fluid'][0, 0, 0:4])\n",
    "print(blocks_cal[0]['geo'][0, 0, 3:5])\n",
    "print(blocks_cal[0]['geo'][0, 0, 3:5] / np.linalg.norm(blocks_cal[0]['geo'][0, 0, 3:5]))\n",
    "print(blocks_cal[0]['bc'][0]['ghost_cell'][0, 0, 0:4])\n",
    "\n",
    "v_r = np.array((blocks_cal[0]['fluid'][26, 0, 1], blocks_cal[0]['fluid'][26, 0, 2]))\n",
    "v_g = np.array((blocks_cal[0]['bc'][0]['ghost_cell'][26, 0, 1], blocks_cal[0]['bc'][0]['ghost_cell'][26, 0, 2]))\n",
    "S = blocks_cal[0]['geo'][26, 0, 3:5] / np.linalg.norm(blocks_cal[0]['geo'][26, 0, 3:5])\n",
    "flux = np.dot(v_r + v_g, S)\n",
    "print(flux)"
   ],
   "id": "37f92b0c350f260",
   "outputs": [
    {
     "name": "stdout",
     "output_type": "stream",
     "text": [
      "[ 1.          0.99939083  0.0348995  20.34126984]\n",
      "[-6.73797273e-05  4.95439171e-04]\n",
      "[-0.13475945  0.99087834]\n",
      "[ 1.          0.97241301  0.23326582 20.34126984]\n",
      "-5.551115123125783e-17\n"
     ]
    }
   ],
   "execution_count": 7
  },
  {
   "metadata": {},
   "cell_type": "markdown",
   "source": "## 验证空间离散",
   "id": "f7623cdd36c97be"
  },
  {
   "metadata": {
    "ExecuteTime": {
     "end_time": "2025-06-19T09:22:19.266505Z",
     "start_time": "2025-06-19T09:22:19.236387Z"
    }
   },
   "cell_type": "code",
   "source": [
    "from solver.flux import reconstruct_interface_state as re\n",
    "from solver.flux import conflux_roe\n",
    "\n",
    "u_stat = re(blocks_cal[0], [4,4], [1,1])\n",
    "s = blocks_cal[0]['geo'][4,4, 5:7]\n",
    "flux = conflux_roe(u_stat[:,0], u_stat[:,1], s)\n",
    "print(flux)\n",
    "u_stat = re(blocks_cal[0], [4,4], [1,-1])\n",
    "s = blocks_cal[0]['geo'][4,4, 9:11]\n",
    "flux = flux + conflux_roe(u_stat[:,0], u_stat[:,1], s)\n",
    "print(flux)\n",
    "u_stat = re(blocks_cal[0], [4,4], [2,1])\n",
    "s = blocks_cal[0]['geo'][4,4, 7:9]\n",
    "flux = flux + conflux_roe(u_stat[:,0], u_stat[:,1], s)\n",
    "print(flux)\n",
    "u_stat = re(blocks_cal[0], [4,4], [2,-1])\n",
    "s = blocks_cal[0]['geo'][4,4, 3:5]\n",
    "flux = flux + conflux_roe(u_stat[:,0], u_stat[:,1], s)\n",
    "print(flux)\n",
    "\n",
    "print(blocks_cal[0]['fluid'][4, 4])\n",
    "print(blocks_cal[0]['fluid'][4, 5])\n",
    "print(blocks_cal[0]['fluid'][5, 4])\n",
    "print(blocks_cal[0]['fluid'][3, 4])\n",
    "print(blocks_cal[0]['fluid'][4, 3])\n",
    "\n",
    "geo = blocks_cal[0]['geo']\n",
    "print(\"S1+S3 = \", geo[4,4,3:5] + geo[4,4,7:9])   # 下 + 上\n",
    "print(\"S4+S2 = \", geo[4,4,5:7] + geo[4,4,9:11])  # 左 + 右\n",
    "\n",
    "U = np.array([1.0, 1.0, 0.0, 2.0])\n",
    "S = np.array([1.0, 0.0])  # 单位面矢量\n",
    "\n",
    "flux = conflux_roe(U, U, S)\n",
    "print(flux)\n",
    "S = [0.0, 1.0]\n",
    "flux = conflux_roe(U, U, S)\n",
    "print(flux)"
   ],
   "id": "2f8541475f8e0707",
   "outputs": [
    {
     "name": "stdout",
     "output_type": "stream",
     "text": [
      "[-8.70424352e-01 -1.06498533e-02 -5.82345952e-03 -2.46136664e+01]\n",
      "[-4.23759685e-02 -1.26762559e-03  2.73895015e-04 -1.19829822e+00]\n",
      "[ 4.65481437e-01  3.71724296e-03 -6.69473740e-03  1.31627806e+01]\n",
      "[ 5.26088685e-02 -4.33680869e-19  8.67361738e-19  1.48766189e+00]\n",
      "[ 1.          0.99939083  0.0348995  20.34126984]\n",
      "[ 1.          0.99939083  0.0348995  20.34126984]\n",
      "[ 1.          0.99939083  0.0348995  20.34126984]\n",
      "[ 1.          0.99939083  0.0348995  20.34126984]\n",
      "[ 1.          0.99939083  0.0348995  20.34126984]\n",
      "S1+S3 =  [ 1.42004439e-04 -3.51294417e-05]\n",
      "S4+S2 =  [-1.42004439e-04  3.51294417e-05]\n",
      "[1.  1.6 0.  2.6]\n",
      "[-1.   0.   1.6 -2.6]\n"
     ]
    }
   ],
   "execution_count": 8
  }
 ],
 "metadata": {
  "kernelspec": {
   "display_name": "Python 3",
   "language": "python",
   "name": "python3"
  },
  "language_info": {
   "codemirror_mode": {
    "name": "ipython",
    "version": 2
   },
   "file_extension": ".py",
   "mimetype": "text/x-python",
   "name": "python",
   "nbconvert_exporter": "python",
   "pygments_lexer": "ipython2",
   "version": "2.7.6"
  }
 },
 "nbformat": 4,
 "nbformat_minor": 5
}
