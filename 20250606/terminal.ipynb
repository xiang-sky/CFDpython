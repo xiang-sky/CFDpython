{
 "cells": [
  {
   "metadata": {
    "ExecuteTime": {
     "end_time": "2025-06-21T11:30:09.152522Z",
     "start_time": "2025-06-21T11:30:08.996973Z"
    }
   },
   "cell_type": "code",
   "source": [
    "import numpy as np\n",
    "from mesh.mesh_read_plot3D import StructuredMeshInitialization2D\n",
    "from mesh.mesh import MeshGeoCalculator2D\n",
    "import boundary.boundary as bd\n",
    "import type_transform as tf\n",
    "import config\n",
    "import Initialization as initial"
   ],
   "id": "147abb9b4bade0a6",
   "outputs": [],
   "execution_count": 1
  },
  {
   "metadata": {},
   "cell_type": "markdown",
   "source": "# 读取并预处理网格",
   "id": "7feac6983f688c1"
  },
  {
   "metadata": {
    "ExecuteTime": {
     "end_time": "2025-06-21T11:30:09.168752Z",
     "start_time": "2025-06-21T11:30:09.153935Z"
    }
   },
   "cell_type": "code",
   "source": [
    "mesh_read = StructuredMeshInitialization2D()\n",
    "mesh_read.load_file(\"airfoil0012extend.grd\", \"airfoil0012extend.inp\", 0.001)\n",
    "mesh_read.merge_blocks_2D()\n",
    "mesh_read.interface_transform_cal()\n",
    "mesh_read.mesh_reader.info()\n",
    "mesh_read.bc_reader.info()\n",
    "mesh_read.print_block_info()"
   ],
   "id": "20f31e64f90dc796",
   "outputs": [
    {
     "name": "stdout",
     "output_type": "stream",
     "text": [
      "[Block 0] shape: (259, 49, 1)\n",
      "  x range: -14.898221 ~ 15.908266\n",
      "  y range: -15.695282 ~ 15.697121\n",
      "  z range: 0.000000 ~ 0.000000\n",
      "[Block 1] shape: (10, 49, 1)\n",
      "  x range: 1.000000 ~ 15.908266\n",
      "  y range: -0.163128 ~ 0.215341\n",
      "  z range: 0.000000 ~ 0.000000\n",
      "Detected 2D boundary condition file.\n",
      "[Block 0] A shape: (259, 49, 1)\n",
      "  - Source: (259, 130, 1, 1), Type: 2\n",
      "  - Source: (259, 259, 1, 49), Type: -1, Target: (1, 1, 1, 49), Block: 1\n",
      "  - Source: (130, 259, 49, 49), Type: 4\n",
      "  - Source: (130, 1, 1, 1), Type: 2\n",
      "  - Source: (1, 130, 49, 49), Type: 4\n",
      "  - Source: (1, 1, 1, 49), Type: -1, Target: (10, 10, 1, 49), Block: 1\n",
      "[Block 1] B shape: (10, 49, 1)\n",
      "  - Source: (10, 1, 1, 1), Type: 2\n",
      "  - Source: (10, 10, 1, 49), Type: -1, Target: (1, 1, 1, 49), Block: 0\n",
      "  - Source: (1, 10, 49, 49), Type: 4\n",
      "  - Source: (1, 1, 1, 49), Type: -1, Target: (259, 259, 1, 49), Block: 0\n",
      "[Block 0]  shape: (259, 49, 1)\n",
      "  - BC type 2, source (259, 1, 1, 1), target_block N/A, target N/A\n",
      "  - BC type -1, source (259, 259, 1, 49), target_block 1, target (1, 1, 1, 49), transform (1, 2)\n",
      "  - BC type 4, source (1, 259, 49, 49), target_block N/A, target N/A\n",
      "  - BC type -1, source (1, 1, 1, 49), target_block 1, target (10, 10, 1, 49), transform (1, 2)\n",
      "[Block 1]  shape: (10, 49, 1)\n",
      "  - BC type 2, source (10, 1, 1, 1), target_block N/A, target N/A\n",
      "  - BC type -1, source (10, 10, 1, 49), target_block 0, target (1, 1, 1, 49), transform (1, 2)\n",
      "  - BC type 4, source (1, 10, 49, 49), target_block N/A, target N/A\n",
      "  - BC type -1, source (1, 1, 1, 49), target_block 0, target (259, 259, 1, 49), transform (1, 2)\n"
     ]
    }
   ],
   "execution_count": 2
  },
  {
   "metadata": {},
   "cell_type": "markdown",
   "source": "# 计算网格几何参数",
   "id": "41517c17ab52b5a8"
  },
  {
   "metadata": {
    "ExecuteTime": {
     "end_time": "2025-06-21T11:30:09.184634Z",
     "start_time": "2025-06-21T11:30:09.170101Z"
    }
   },
   "cell_type": "code",
   "source": [
    "mesh_geocal = MeshGeoCalculator2D(mesh_read)\n",
    "mesh_geocal.compute_centroids()\n",
    "mesh_geocal.compute_volumes()\n",
    "mesh_geocal.compute_face_vectors()\n",
    "for i, item in enumerate(mesh_geocal.mesh.blocks):\n",
    "    print(f\"block {i} keys: {list(item.keys())}\")\n",
    "print(mesh_geocal.mesh.blocks[0]['bc'])"
   ],
   "id": "21a68dc0f4c80afc",
   "outputs": [
    {
     "name": "stdout",
     "output_type": "stream",
     "text": [
      "[Block 0] xc range: (-13.69490000, 14.69897015), yc range: (-14.45284450, 14.45210219)\n",
      "[Block 1] xc range: (1.00027755, 14.70264261), yc range: (-0.12138114, 0.17834181)\n",
      "[Block 0] volume range: (3.62171595e-07, 1.78960182e+00)\n",
      "[Block 1] volume range: (3.85062192e-07, 1.38875202e-01)\n",
      "block 0 keys: ['shape', 'x', 'y', 'z', 'bc', 'xc', 'yc', 'volume', 'S1', 'S2', 'S3', 'S4']\n",
      "block 1 keys: ['shape', 'x', 'y', 'z', 'bc', 'xc', 'yc', 'volume', 'S1', 'S2', 'S3', 'S4']\n",
      "[{'type': 2, 'source': (259, 1, 1, 1)}, {'source': (259, 259, 1, 49), 'type': -1, 'target': (1, 1, 1, 49), 'target_block': 1, 'transform': (1, 2)}, {'type': 4, 'source': (1, 259, 49, 49)}, {'source': (1, 1, 1, 49), 'type': -1, 'target': (10, 10, 1, 49), 'target_block': 1, 'transform': (1, 2)}]\n"
     ]
    }
   ],
   "execution_count": 3
  },
  {
   "metadata": {},
   "cell_type": "markdown",
   "source": "# 添加虚网格",
   "id": "bca6209e3374a5fa"
  },
  {
   "metadata": {
    "ExecuteTime": {
     "end_time": "2025-06-21T11:30:09.200704Z",
     "start_time": "2025-06-21T11:30:09.186126Z"
    }
   },
   "cell_type": "code",
   "source": [
    "blocks = np.copy(mesh_geocal.mesh.blocks)\n",
    "bd.crate_ghost_cells(blocks, config.GHOST_LAYER, config.N_C)\n",
    "for block in blocks:\n",
    " for bc in block['bc']: \n",
    "    if 'ghost_cell' in bc:\n",
    "        print(\"ghost_cell shape:\", bc['ghost_cell'].shape)\n",
    "for i, block in enumerate(blocks):\n",
    "    print(f\"Block {i} keys:\", list(block.keys()))"
   ],
   "id": "ca60c014758c3842",
   "outputs": [
    {
     "name": "stdout",
     "output_type": "stream",
     "text": [
      "ghost_cell shape: (258, 2, 4)\n",
      "ghost_cell shape: (48, 2, 4)\n",
      "ghost_cell shape: (258, 2, 4)\n",
      "ghost_cell shape: (48, 2, 4)\n",
      "ghost_cell shape: (9, 2, 4)\n",
      "ghost_cell shape: (48, 2, 4)\n",
      "ghost_cell shape: (9, 2, 4)\n",
      "ghost_cell shape: (48, 2, 4)\n",
      "Block 0 keys: ['shape', 'x', 'y', 'z', 'bc', 'xc', 'yc', 'volume', 'S1', 'S2', 'S3', 'S4']\n",
      "Block 1 keys: ['shape', 'x', 'y', 'z', 'bc', 'xc', 'yc', 'volume', 'S1', 'S2', 'S3', 'S4']\n"
     ]
    }
   ],
   "execution_count": 4
  },
  {
   "metadata": {},
   "cell_type": "markdown",
   "source": "# 整理为一个用于计算的列表",
   "id": "9a0a6abc4c6ffbfc"
  },
  {
   "metadata": {
    "ExecuteTime": {
     "end_time": "2025-06-21T11:30:09.216089Z",
     "start_time": "2025-06-21T11:30:09.202964Z"
    }
   },
   "cell_type": "code",
   "source": [
    "blocks_cal = tf.trans_list2numpy_2d(blocks, config.N_C)\n",
    "for i, block in enumerate(blocks_cal):\n",
    "    print(f\"Block {i} keys:\", list(block.keys()))\n",
    "    print(f\"Block {i} has {len(block['bc'])} boundary conditions.\")\n",
    "    for j, bc in enumerate(block['bc']):\n",
    "        print(f\"  BC {j} keys: {list(bc.keys())}\")\n",
    "        print(f\"    → type: {bc.get('type', 'N/A')}\")"
   ],
   "id": "9f809eaaf0563c45",
   "outputs": [
    {
     "name": "stdout",
     "output_type": "stream",
     "text": [
      "Block 0 keys: ['geo', 'fluid', 'bc']\n",
      "Block 0 has 4 boundary conditions.\n",
      "  BC 0 keys: ['type', 'source', 'ghost_cell']\n",
      "    → type: 2\n",
      "  BC 1 keys: ['source', 'type', 'target', 'target_block', 'transform', 'ghost_cell']\n",
      "    → type: -1\n",
      "  BC 2 keys: ['type', 'source', 'ghost_cell']\n",
      "    → type: 4\n",
      "  BC 3 keys: ['source', 'type', 'target', 'target_block', 'transform', 'ghost_cell']\n",
      "    → type: -1\n",
      "Block 1 keys: ['geo', 'fluid', 'bc']\n",
      "Block 1 has 4 boundary conditions.\n",
      "  BC 0 keys: ['source', 'type', 'ghost_cell']\n",
      "    → type: 2\n",
      "  BC 1 keys: ['source', 'type', 'target', 'target_block', 'transform', 'ghost_cell']\n",
      "    → type: -1\n",
      "  BC 2 keys: ['source', 'type', 'ghost_cell']\n",
      "    → type: 4\n",
      "  BC 3 keys: ['source', 'type', 'target', 'target_block', 'transform', 'ghost_cell']\n",
      "    → type: -1\n"
     ]
    }
   ],
   "execution_count": 5
  },
  {
   "metadata": {},
   "cell_type": "markdown",
   "source": "# 初始化流场和边界条件",
   "id": "45809912d265420d"
  },
  {
   "metadata": {
    "ExecuteTime": {
     "end_time": "2025-06-21T11:30:09.231378Z",
     "start_time": "2025-06-21T11:30:09.217393Z"
    }
   },
   "cell_type": "code",
   "source": [
    "initial.intialization_from_farfield(blocks_cal)\n",
    "print(blocks_cal[0]['fluid'][0, 0, 0:4])\n",
    "print(blocks_cal[0]['bc'][0]['ghost_cell'][0, 0, 0:4])"
   ],
   "id": "60b06feda8a4c394",
   "outputs": [
    {
     "name": "stdout",
     "output_type": "stream",
     "text": [
      "[ 1.          0.99939083  0.0348995  20.34126984]\n",
      "[ 1.          0.99939083  0.0348995  20.34126984]\n"
     ]
    }
   ],
   "execution_count": 6
  },
  {
   "metadata": {},
   "cell_type": "markdown",
   "source": [
    "# 迭代计算\n",
    "## 边界条件处理(虚网格)"
   ],
   "id": "a52f3aff38fb9d93"
  },
  {
   "metadata": {
    "ExecuteTime": {
     "end_time": "2025-06-21T11:30:09.247528Z",
     "start_time": "2025-06-21T11:30:09.232367Z"
    }
   },
   "cell_type": "code",
   "source": [
    "bd.boundary_farfeild(blocks_cal)\n",
    "bd.boundary_wall_inviscid(blocks_cal)\n",
    "bd.boundary_interface(blocks_cal)\n",
    "\n",
    "\n",
    "print(blocks_cal[0]['fluid'][0, 0, 0:4])\n",
    "print(blocks_cal[0]['geo'][0, 0, 3:5])\n",
    "print(blocks_cal[0]['geo'][0, 0, 3:5] / np.linalg.norm(blocks_cal[0]['geo'][0, 0, 3:5]))\n",
    "print(blocks_cal[0]['bc'][0]['ghost_cell'][0, 0, 0:4])\n",
    "\n",
    "v_r = np.array((blocks_cal[0]['fluid'][26, 0, 1], blocks_cal[0]['fluid'][26, 0, 2]))\n",
    "v_g = np.array((blocks_cal[0]['bc'][0]['ghost_cell'][26, 0, 1], blocks_cal[0]['bc'][0]['ghost_cell'][26, 0, 2]))\n",
    "S = blocks_cal[0]['geo'][26, 0, 3:5] / np.linalg.norm(blocks_cal[0]['geo'][26, 0, 3:5])\n",
    "flux = np.dot(v_r + v_g, S)\n",
    "print(flux)"
   ],
   "id": "37f92b0c350f260",
   "outputs": [
    {
     "name": "stdout",
     "output_type": "stream",
     "text": [
      "[ 1.          0.99939083  0.0348995  20.34126984]\n",
      "[-6.73797273e-05  4.95439171e-04]\n",
      "[-0.13475945  0.99087834]\n",
      "[ 1.          0.97241301  0.23326582 20.34126984]\n",
      "-5.551115123125783e-17\n"
     ]
    }
   ],
   "execution_count": 7
  },
  {
   "metadata": {},
   "cell_type": "markdown",
   "source": "## 验证空间离散",
   "id": "f7623cdd36c97be"
  },
  {
   "metadata": {
    "ExecuteTime": {
     "end_time": "2025-06-21T12:03:09.651396Z",
     "start_time": "2025-06-21T12:03:09.632981Z"
    }
   },
   "cell_type": "code",
   "source": [
    "from solver.flux import reconstruct_interface_state as re\n",
    "from solver.flux import conflux_ausm\n",
    "\n",
    "u_stat = re(blocks_cal[0], [10,10], [1,1])\n",
    "print(u_stat)"
   ],
   "id": "2f8541475f8e0707",
   "outputs": [
    {
     "name": "stdout",
     "output_type": "stream",
     "text": [
      "[[ 1.          1.        ]\n",
      " [ 0.99939083  0.99939083]\n",
      " [ 0.0348995   0.0348995 ]\n",
      " [20.34126984 20.34126984]]\n"
     ]
    }
   ],
   "execution_count": 14
  },
  {
   "metadata": {
    "ExecuteTime": {
     "end_time": "2025-06-21T12:09:34.821828Z",
     "start_time": "2025-06-21T12:09:34.808494Z"
    }
   },
   "cell_type": "code",
   "source": [
    "u_stat = re(blocks_cal[0], [10,10], [1,1])\n",
    "print(u_stat)\n",
    "s = blocks_cal[0]['geo'][10, 10, 5:7]\n",
    "print(s)\n",
    "flux = conflux_ausm(u_stat[:,0], u_stat[:,1], s)\n",
    "print(flux)"
   ],
   "id": "6dc45d68692d0a88",
   "outputs": [
    {
     "name": "stdout",
     "output_type": "stream",
     "text": [
      "[[ 1.          1.        ]\n",
      " [ 0.99939083  0.99939083]\n",
      " [ 0.0348995   0.0348995 ]\n",
      " [20.34126984 20.34126984]]\n",
      "[-0.00260055 -0.00240691]\n",
      "[ -0.75716064  -6.5813188   -5.41733976 -21.41082031]\n"
     ]
    }
   ],
   "execution_count": 21
  }
 ],
 "metadata": {
  "kernelspec": {
   "display_name": "Python 3",
   "language": "python",
   "name": "python3"
  },
  "language_info": {
   "codemirror_mode": {
    "name": "ipython",
    "version": 2
   },
   "file_extension": ".py",
   "mimetype": "text/x-python",
   "name": "python",
   "nbconvert_exporter": "python",
   "pygments_lexer": "ipython2",
   "version": "2.7.6"
  }
 },
 "nbformat": 4,
 "nbformat_minor": 5
}
