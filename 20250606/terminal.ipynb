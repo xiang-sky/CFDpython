{
 "cells": [
  {
   "metadata": {},
   "cell_type": "code",
   "source": [
    "import numpy as np\n",
    "from mesh.mesh_read_plot3D import StructuredMeshInitialization2D\n",
    "from mesh.mesh import MeshGeoCalculator2D\n",
    "import boundary.boundary as bd\n",
    "import type_transform as tf\n",
    "import config\n",
    "import Initialization as initial\n",
    "from solver.residual import compute_residual_ausm\n",
    "from solver.solver import RK3Solver"
   ],
   "id": "147abb9b4bade0a6",
   "outputs": [],
   "execution_count": null
  },
  {
   "metadata": {},
   "cell_type": "markdown",
   "source": "# 读取并预处理网格",
   "id": "7feac6983f688c1"
  },
  {
   "metadata": {},
   "cell_type": "code",
   "source": [
    "mesh_read = StructuredMeshInitialization2D()\n",
    "mesh_read.load_file(\"airfoil0012extend.grd\", \"airfoil0012extend.inp\", 0.001)\n",
    "mesh_read.merge_blocks_2D()\n",
    "mesh_read.interface_transform_cal()\n",
    "mesh_read.mesh_reader.info()\n",
    "mesh_read.bc_reader.info()\n",
    "mesh_read.print_block_info()"
   ],
   "id": "20f31e64f90dc796",
   "outputs": [],
   "execution_count": null
  },
  {
   "metadata": {},
   "cell_type": "markdown",
   "source": "# 计算网格几何参数",
   "id": "41517c17ab52b5a8"
  },
  {
   "metadata": {},
   "cell_type": "code",
   "source": [
    "mesh_geocal = MeshGeoCalculator2D(mesh_read)\n",
    "mesh_geocal.compute_centroids()\n",
    "mesh_geocal.compute_volumes()\n",
    "mesh_geocal.compute_face_vectors()\n",
    "for i, item in enumerate(mesh_geocal.mesh.blocks):\n",
    "    print(f\"block {i} keys: {list(item.keys())}\")\n",
    "print(mesh_geocal.mesh.blocks[0]['bc'])"
   ],
   "id": "21a68dc0f4c80afc",
   "outputs": [],
   "execution_count": null
  },
  {
   "metadata": {},
   "cell_type": "markdown",
   "source": "# 添加虚网格",
   "id": "bca6209e3374a5fa"
  },
  {
   "metadata": {},
   "cell_type": "code",
   "source": [
    "blocks = np.copy(mesh_geocal.mesh.blocks)\n",
    "bd.crate_ghost_cells(blocks, config.GHOST_LAYER, config.N_C)\n",
    "for block in blocks:\n",
    " for bc in block['bc']: \n",
    "    if 'ghost_cell' in bc:\n",
    "        print(\"ghost_cell shape:\", bc['ghost_cell'].shape)\n",
    "for i, block in enumerate(blocks):\n",
    "    print(f\"Block {i} keys:\", list(block.keys()))"
   ],
   "id": "ca60c014758c3842",
   "outputs": [],
   "execution_count": null
  },
  {
   "metadata": {},
   "cell_type": "markdown",
   "source": "# 整理为一个用于计算的列表",
   "id": "9a0a6abc4c6ffbfc"
  },
  {
   "metadata": {},
   "cell_type": "code",
   "source": [
    "blocks_cal = tf.trans_list2numpy_2d(blocks, config.N_C)\n",
    "for i, block in enumerate(blocks_cal):\n",
    "    print(f\"Block {i} keys:\", list(block.keys()))\n",
    "    print(f\"Block {i} has {len(block['bc'])} boundary conditions.\")\n",
    "    for j, bc in enumerate(block['bc']):\n",
    "        print(f\"  BC {j} keys: {list(bc.keys())}\")\n",
    "        print(f\"    → type: {bc.get('type', 'N/A')}\")"
   ],
   "id": "9f809eaaf0563c45",
   "outputs": [],
   "execution_count": null
  },
  {
   "metadata": {},
   "cell_type": "markdown",
   "source": "# 初始化流场和边界条件",
   "id": "45809912d265420d"
  },
  {
   "metadata": {},
   "cell_type": "code",
   "source": [
    "initial.intialization_from_farfield(blocks_cal)\n",
    "print(blocks_cal[0]['fluid'][0, 0, 0:4])\n",
    "print(blocks_cal[0]['bc'][0]['ghost_cell'][0, 0, 0:4])"
   ],
   "id": "60b06feda8a4c394",
   "outputs": [],
   "execution_count": null
  },
  {
   "metadata": {},
   "cell_type": "markdown",
   "source": "# 迭代计算",
   "id": "a52f3aff38fb9d93"
  },
  {
   "metadata": {},
   "cell_type": "code",
   "source": [
    "slover = RK3Solver(blocks_cal, config.GAMMA, 0.5)\n",
    "slover.run(5000, 1e-2)\n",
    "blocks_result = slover.blocks"
   ],
   "id": "c993caeeb3a33a6a",
   "outputs": [],
   "execution_count": null
  },
  {
   "metadata": {},
   "cell_type": "markdown",
   "source": "# 保存列表",
   "id": "4687229bab214566"
  },
  {
   "metadata": {},
   "cell_type": "code",
   "source": [
    "import pickle\n",
    "with open('blocks_result.pkl', 'wb') as f:\n",
    "    pickle.dump(blocks_result, f)"
   ],
   "id": "3d0b82c02acfe946",
   "outputs": [],
   "execution_count": null
  },
  {
   "metadata": {},
   "cell_type": "markdown",
   "source": "# 读取列表",
   "id": "79643de0482f521e"
  },
  {
   "metadata": {},
   "cell_type": "code",
   "source": [
    "import pickle\n",
    "with open('blocks_result.pkl', 'rb') as f:\n",
    "    blocks_result = pickle.load(f)\n",
    "for i, block in enumerate(blocks_result):\n",
    "    print(f\"Block {i} keys:\", list(block.keys()))"
   ],
   "id": "44c30862f2b5455",
   "outputs": [],
   "execution_count": null
  },
  {
   "metadata": {},
   "cell_type": "markdown",
   "source": "# 继续计算",
   "id": "be7443c21a1f4a6f"
  },
  {
   "metadata": {},
   "cell_type": "code",
   "source": [
    "slover = RK3Solver(blocks_result, config.GAMMA, 0.5)\n",
    "slover.run(500, 1e-2)\n",
    "blocks_result = slover.blocks"
   ],
   "id": "561fe9434703658b",
   "outputs": [],
   "execution_count": null
  },
  {
   "metadata": {},
   "cell_type": "markdown",
   "source": "# ",
   "id": "430b45394aa78fc4"
  },
  {
   "metadata": {},
   "cell_type": "markdown",
   "source": "# 输出为.dat文件",
   "id": "4b838af7e1b08c93"
  },
  {
   "metadata": {},
   "cell_type": "code",
   "source": [
    "from post_output.output_tecplot import output_tecplot\n",
    "output_tecplot(blocks_result)"
   ],
   "id": "61d182af39f54845",
   "outputs": [],
   "execution_count": null
  }
 ],
 "metadata": {
  "kernelspec": {
   "display_name": "Python 3",
   "language": "python",
   "name": "python3"
  },
  "language_info": {
   "codemirror_mode": {
    "name": "ipython",
    "version": 2
   },
   "file_extension": ".py",
   "mimetype": "text/x-python",
   "name": "python",
   "nbconvert_exporter": "python",
   "pygments_lexer": "ipython2",
   "version": "2.7.6"
  }
 },
 "nbformat": 4,
 "nbformat_minor": 5
}
